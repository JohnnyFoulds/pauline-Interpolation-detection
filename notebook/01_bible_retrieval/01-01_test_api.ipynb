{
 "cells": [
  {
   "cell_type": "markdown",
   "metadata": {},
   "source": [
    "# 01-01 : Test Bible Passage Retrieval\n",
    "\n",
    "## References\n",
    "\n",
    "- [Bible Gateway API Documentation](https://www.biblegateway.com/api/documentation)"
   ]
  },
  {
   "cell_type": "code",
   "execution_count": 15,
   "metadata": {},
   "outputs": [],
   "source": [
    "import os\n",
    "import requests"
   ]
  },
  {
   "cell_type": "code",
   "execution_count": 16,
   "metadata": {},
   "outputs": [
    {
     "data": {
      "text/plain": [
       "True"
      ]
     },
     "execution_count": 16,
     "metadata": {},
     "output_type": "execute_result"
    }
   ],
   "source": [
    "from dotenv import load_dotenv\n",
    "load_dotenv()"
   ]
  },
  {
   "cell_type": "markdown",
   "metadata": {},
   "source": [
    "## 1. Configuration"
   ]
  },
  {
   "cell_type": "code",
   "execution_count": 17,
   "metadata": {},
   "outputs": [
    {
     "name": "stdout",
     "output_type": "stream",
     "text": [
      "https://api.biblegateway.com/2/\n",
      "hfoulds@gmail.com\n",
      "True\n"
     ]
    }
   ],
   "source": [
    "base_url = os.getenv('BIBLEGATEWAY_BASE_URL')\n",
    "user = os.getenv('BIBLEGATEWAY_USER')\n",
    "password = os.getenv('BIBLEGATEWAY_PASSWORD')\n",
    "\n",
    "print(base_url)\n",
    "print(user)\n",
    "print(not(password is None or password == ''))"
   ]
  },
  {
   "cell_type": "markdown",
   "metadata": {},
   "source": [
    "## 2. Authorization"
   ]
  },
  {
   "cell_type": "code",
   "execution_count": 18,
   "metadata": {},
   "outputs": [
    {
     "name": "stdout",
     "output_type": "stream",
     "text": [
      "{'error': 1, 'error_message': 'user does not exist'}\n"
     ]
    }
   ],
   "source": [
    "result = requests.get(\n",
    "    url=f'{base_url}/request_access_token?username={user}&password={password}')\n",
    "\n",
    "print(result.json())"
   ]
  },
  {
   "cell_type": "code",
   "execution_count": 22,
   "metadata": {},
   "outputs": [
    {
     "name": "stdout",
     "output_type": "stream",
     "text": [
      "[]\n"
     ]
    }
   ],
   "source": [
    "url = \"https://api.biblegateway.com/2/search/verses.php\"\n",
    "params = {\n",
    "    \"json\": {\n",
    "        \"book\": \"Matthew\",\n",
    "        \"bid\": \"40\",\n",
    "        \"chapter\": \"19\",\n",
    "        \"chapter_roman\": \"XIX\",\n",
    "        \"verse\": \"26\",\n",
    "        \"found\": 1,\n",
    "        \"next_chapter\": \"read-mat-20\",\n",
    "        \"version\": \"nasb\",\n",
    "    }\n",
    "}\n",
    "\n",
    "response = requests.get(url, params=params)\n",
    "print(response.json())\n"
   ]
  }
 ],
 "metadata": {
  "kernelspec": {
   "display_name": "pauline-Interpolation-detection",
   "language": "python",
   "name": "python3"
  },
  "language_info": {
   "codemirror_mode": {
    "name": "ipython",
    "version": 3
   },
   "file_extension": ".py",
   "mimetype": "text/x-python",
   "name": "python",
   "nbconvert_exporter": "python",
   "pygments_lexer": "ipython3",
   "version": "3.10.16"
  }
 },
 "nbformat": 4,
 "nbformat_minor": 2
}

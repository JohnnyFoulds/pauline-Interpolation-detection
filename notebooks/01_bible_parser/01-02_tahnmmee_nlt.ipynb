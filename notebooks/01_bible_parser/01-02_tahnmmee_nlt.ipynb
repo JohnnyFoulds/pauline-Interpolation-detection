{
 "cells": [
  {
   "cell_type": "markdown",
   "metadata": {},
   "source": [
    "# 01-02 : Parse thanmee NLT data\n",
    "\n",
    "For a newer version of the NLT parse the data from the GitHub repository [tahmmee/ftsbible](https://github.com/tahmmee/ftsbible) retrieved on 2025/01/26."
   ]
  },
  {
   "cell_type": "code",
   "execution_count": 1,
   "metadata": {},
   "outputs": [],
   "source": [
    "from typing import List, Dict, Any\n",
    "import json\n",
    "from IPython.display import display, Markdown"
   ]
  },
  {
   "cell_type": "markdown",
   "metadata": {},
   "source": [
    "## 1. Configuration"
   ]
  },
  {
   "cell_type": "code",
   "execution_count": 2,
   "metadata": {},
   "outputs": [],
   "source": [
    "data_path = '../../data'\n",
    "input_path = f'{data_path}/input'\n",
    "\n",
    "source_path = f'{input_path}/tahmmee/ftsbible'\n",
    "output_path = f'{data_path}/output/tahmmee/ftsbible'\n",
    "\n",
    "book_names_file = f'{input_path}/books.json'\n",
    "input_file = f'{source_path}/nlt.json'\n",
    "output_file = f'{output_path}/NLT.json'"
   ]
  },
  {
   "cell_type": "markdown",
   "metadata": {},
   "source": [
    "## 2. Load Data"
   ]
  },
  {
   "cell_type": "markdown",
   "metadata": {},
   "source": [
    "### 2.1. Load Book Names"
   ]
  },
  {
   "cell_type": "code",
   "execution_count": 3,
   "metadata": {},
   "outputs": [
    {
     "name": "stdout",
     "output_type": "stream",
     "text": [
      "{'1': {'BookName': 'Genesis', 'BookAbbreviation': 'Gen'}, '2': {'BookName': 'Exodus', 'BookAbbreviation': 'Exod'}, '3': {'BookName': 'Leviticus', 'BookAbbreviation': 'Lev'}, '4': {'BookName': 'Numbers', 'BookAbbreviation': 'Num'}, '5': {'BookName': 'Deuteronomy', 'BookAbbreviation': 'Deut'}, '6': {'BookName': 'Joshua', 'BookAbbreviation': 'Josh'}, '7': {'BookName': 'Judges', 'BookAbbreviation': 'Judg'}, '8': {'BookName': 'Ruth', 'BookAbbreviation': 'Ruth'}, '9': {'BookName': '1 Samuel', 'BookAbbreviation': '1 Sam'}, '10': {'BookName': '2 Samuel', 'BookAbbreviation': '2 Sam'}, '11': {'BookName': '1 Kings', 'BookAbbreviation': '1 Kgs'}, '12': {'BookName': '2 Kings', 'BookAbbreviation': '2 Kgs'}, '13': {'BookName': '1 Chronicles', 'BookAbbreviation': '1 Chr'}, '14': {'BookName': '2 Chronicles', 'BookAbbreviation': '2 Chr'}, '15': {'BookName': 'Ezra', 'BookAbbreviation': 'Ezra'}, '16': {'BookName': 'Nehemiah', 'BookAbbreviation': 'Neh'}, '17': {'BookName': 'Esther', 'BookAbbreviation': 'Esth'}, '18': {'BookName': 'Job', 'BookAbbreviation': 'Job'}, '19': {'BookName': 'Psalms', 'BookAbbreviation': 'Ps'}, '20': {'BookName': 'Proverbs', 'BookAbbreviation': 'Prov'}, '21': {'BookName': 'Ecclesiastes', 'BookAbbreviation': 'Eccl'}, '22': {'BookName': 'Song of Solomon', 'BookAbbreviation': 'Song'}, '23': {'BookName': 'Isaiah', 'BookAbbreviation': 'Isa'}, '24': {'BookName': 'Jeremiah', 'BookAbbreviation': 'Jer'}, '25': {'BookName': 'Lamentations', 'BookAbbreviation': 'Lam'}, '26': {'BookName': 'Ezekiel', 'BookAbbreviation': 'Ezek'}, '27': {'BookName': 'Daniel', 'BookAbbreviation': 'Dan'}, '28': {'BookName': 'Hosea', 'BookAbbreviation': 'Hos'}, '29': {'BookName': 'Joel', 'BookAbbreviation': 'Joel'}, '30': {'BookName': 'Amos', 'BookAbbreviation': 'Amos'}, '31': {'BookName': 'Obadiah', 'BookAbbreviation': 'Obad'}, '32': {'BookName': 'Jonah', 'BookAbbreviation': 'Jon'}, '33': {'BookName': 'Micah', 'BookAbbreviation': 'Mic'}, '34': {'BookName': 'Nahum', 'BookAbbreviation': 'Nah'}, '35': {'BookName': 'Habakkuk', 'BookAbbreviation': 'Hab'}, '36': {'BookName': 'Zephaniah', 'BookAbbreviation': 'Zeph'}, '37': {'BookName': 'Haggai', 'BookAbbreviation': 'Hag'}, '38': {'BookName': 'Zechariah', 'BookAbbreviation': 'Zech'}, '39': {'BookName': 'Malachi', 'BookAbbreviation': 'Mal'}, '40': {'BookName': 'Matthew', 'BookAbbreviation': 'Matt'}, '41': {'BookName': 'Mark', 'BookAbbreviation': 'Mark'}, '42': {'BookName': 'Luke', 'BookAbbreviation': 'Luke'}, '43': {'BookName': 'John', 'BookAbbreviation': 'John'}, '44': {'BookName': 'Acts', 'BookAbbreviation': 'Acts'}, '45': {'BookName': 'Romans', 'BookAbbreviation': 'Rom'}, '46': {'BookName': '1 Corinthians', 'BookAbbreviation': '1 Cor'}, '47': {'BookName': '2 Corinthians', 'BookAbbreviation': '2 Cor'}, '48': {'BookName': 'Galatians', 'BookAbbreviation': 'Gal'}, '49': {'BookName': 'Ephesians', 'BookAbbreviation': 'Eph'}, '50': {'BookName': 'Philippians', 'BookAbbreviation': 'Phil'}, '51': {'BookName': 'Colossians', 'BookAbbreviation': 'Col'}, '52': {'BookName': '1 Thessalonians', 'BookAbbreviation': '1 Thess'}, '53': {'BookName': '2 Thessalonians', 'BookAbbreviation': '2 Thess'}, '54': {'BookName': '1 Timothy', 'BookAbbreviation': '1 Tim'}, '55': {'BookName': '2 Timothy', 'BookAbbreviation': '2 Tim'}, '56': {'BookName': 'Titus', 'BookAbbreviation': 'Titus'}, '57': {'BookName': 'Philemon', 'BookAbbreviation': 'Phlm'}, '58': {'BookName': 'Hebrews', 'BookAbbreviation': 'Heb'}, '59': {'BookName': 'James', 'BookAbbreviation': 'Jas'}, '60': {'BookName': '1 Peter', 'BookAbbreviation': '1 Pet'}, '61': {'BookName': '2 Peter', 'BookAbbreviation': '2 Pet'}, '62': {'BookName': '1 John', 'BookAbbreviation': '1 Jn'}, '63': {'BookName': '2 John', 'BookAbbreviation': '2 Jn'}, '64': {'BookName': '3 John', 'BookAbbreviation': '3 Jn'}, '65': {'BookName': 'Jude', 'BookAbbreviation': 'Jude'}, '66': {'BookName': 'Revelation', 'BookAbbreviation': 'Rev'}}\n"
     ]
    }
   ],
   "source": [
    "book_names = json.load(open(book_names_file))\n",
    "print(book_names)"
   ]
  },
  {
   "cell_type": "markdown",
   "metadata": {},
   "source": [
    "### 2.2. Load the Source Data"
   ]
  },
  {
   "cell_type": "code",
   "execution_count": 4,
   "metadata": {},
   "outputs": [
    {
     "name": "stdout",
     "output_type": "stream",
     "text": [
      "31064 dict_keys(['id', 'book', 'chapter', 'verse', 'text'])\n"
     ]
    }
   ],
   "source": [
    "source = json.load(open(input_file))\n",
    "print(len(source), source[0].keys())"
   ]
  },
  {
   "cell_type": "markdown",
   "metadata": {},
   "source": [
    "## 3. Parse the data"
   ]
  },
  {
   "cell_type": "markdown",
   "metadata": {},
   "source": [
    "### 3.1. Initialize the data structures"
   ]
  },
  {
   "cell_type": "code",
   "execution_count": 5,
   "metadata": {},
   "outputs": [
    {
     "data": {
      "text/plain": [
       "dict_keys(['Genesis', 'Exodus', 'Leviticus', 'Numbers', 'Deuteronomy', 'Joshua', 'Judges', 'Ruth', '1 Samuel', '2 Samuel', '1 Kings', '2 Kings', '1 Chronicles', '2 Chronicles', 'Ezra', 'Nehemiah', 'Esther', 'Job', 'Psalms', 'Proverbs', 'Ecclesiastes', 'Song of Solomon', 'Isaiah', 'Jeremiah', 'Lamentations', 'Ezekiel', 'Daniel', 'Hosea', 'Joel', 'Amos', 'Obadiah', 'Jonah', 'Micah', 'Nahum', 'Habakkuk', 'Zephaniah', 'Haggai', 'Zechariah', 'Malachi', 'Matthew', 'Mark', 'Luke', 'John', 'Acts', 'Romans', '1 Corinthians', '2 Corinthians', 'Galatians', 'Ephesians', 'Philippians', 'Colossians', '1 Thessalonians', '2 Thessalonians', '1 Timothy', '2 Timothy', 'Titus', 'Philemon', 'Hebrews', 'James', '1 Peter', '2 Peter', '1 John', '2 John', '3 John', 'Jude', 'Revelation'])"
      ]
     },
     "execution_count": 5,
     "metadata": {},
     "output_type": "execute_result"
    }
   ],
   "source": [
    "nlt_output = { book['BookName']: {} for key, book in book_names.items() }\n",
    "nlt_output.keys()"
   ]
  },
  {
   "cell_type": "code",
   "execution_count": 6,
   "metadata": {},
   "outputs": [],
   "source": [
    "# process every data record\n",
    "for row in source:\n",
    "    book = book_names[str(row['book'])]['BookName']\n",
    "    chapter = row['chapter']\n",
    "    verse = row['verse']\n",
    "    text = row['text']\n",
    "    \n",
    "    if book not in nlt_output:\n",
    "        print(f'Book {book} not found')\n",
    "        continue\n",
    "    if chapter not in nlt_output[book]:\n",
    "        nlt_output[book][chapter] = {}\n",
    "    nlt_output[book][chapter][str(verse)] = text\n",
    "\n",
    "# save the output\n",
    "with open(output_file, 'w') as f:\n",
    "    json.dump(nlt_output, f, indent=2)"
   ]
  }
 ],
 "metadata": {
  "kernelspec": {
   "display_name": "pauline-Interpolation-detection",
   "language": "python",
   "name": "python3"
  },
  "language_info": {
   "codemirror_mode": {
    "name": "ipython",
    "version": 3
   },
   "file_extension": ".py",
   "mimetype": "text/x-python",
   "name": "python",
   "nbconvert_exporter": "python",
   "pygments_lexer": "ipython3",
   "version": "3.10.16"
  }
 },
 "nbformat": 4,
 "nbformat_minor": 2
}

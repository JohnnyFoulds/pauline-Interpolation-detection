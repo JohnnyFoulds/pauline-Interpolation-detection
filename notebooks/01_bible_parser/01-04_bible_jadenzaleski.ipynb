{
 "cells": [
  {
   "cell_type": "markdown",
   "metadata": {},
   "source": [
    "# 01-04 : Bible Parser\n",
    "\n",
    "Experiment with parsing the Bible Text from the translations retrieved on 2025/01/26 from the GitHub repository [jadenzaleski/BibleTranslations](https://github.com/jadenzaleski/BibleTranslations).\n",
    "\n",
    "This repository retrieved the translations from [Bible Gateway](https://www.biblegateway.com) in JSON and SQL format"
   ]
  },
  {
   "cell_type": "code",
   "execution_count": 1,
   "metadata": {},
   "outputs": [],
   "source": [
    "from typing import List, Dict, Any\n",
    "import json\n",
    "from IPython.display import display, Markdown"
   ]
  },
  {
   "cell_type": "markdown",
   "metadata": {},
   "source": [
    "## 1. Configuration"
   ]
  },
  {
   "cell_type": "code",
   "execution_count": 2,
   "metadata": {},
   "outputs": [],
   "source": [
    "data_path = '../../data'\n",
    "input_path = f'{data_path}/input/jadenzaleski/BibleTranslations'\n",
    "\n",
    "esv_file = f'{input_path}/ESV/ESV_bible.json'\n",
    "nlt_file = f'{input_path}/NLT/NLT_bible.json'"
   ]
  },
  {
   "cell_type": "code",
   "execution_count": 3,
   "metadata": {},
   "outputs": [],
   "source": [
    "bible_paths = {\n",
    "    'ESV': esv_file,\n",
    "    'NLT': nlt_file\n",
    "}"
   ]
  },
  {
   "cell_type": "markdown",
   "metadata": {},
   "source": [
    "## 2. Load the Bible Data"
   ]
  },
  {
   "cell_type": "code",
   "execution_count": 4,
   "metadata": {},
   "outputs": [
    {
     "name": "stdout",
     "output_type": "stream",
     "text": [
      "dict_keys(['Genesis', 'Judges', 'Luke', '2 Thessalonians', 'Jude', 'Revelation', 'Song Of Solomon', 'Hebrews', 'Amos', 'Haggai', '2 Samuel', 'Matthew', 'Ezekiel', '3 John', '2 Timothy', 'Acts', '1 Thessalonians', 'Romans', 'Ezra', 'Jeremiah', '1 Peter', '2 Chronicles', 'Deuteronomy', '2 Corinthians', 'Hosea', '1 Kings', 'Leviticus', 'James', 'Nehemiah', 'Titus', 'Proverbs', '1 Samuel', 'Philippians', '2 John', 'Ruth', 'Malachi', 'Numbers', '1 Corinthians', 'Nahum', 'Ephesians', 'Isaiah', 'Colossians', 'Obadiah', 'Esther', 'Jonah', '1 John', '2 Peter', 'John', 'Job', 'Exodus', '2 Kings', 'Micah', 'Daniel', 'Joshua', 'Psalm', 'Joel', 'Galatians', '1 Timothy', 'Philemon', '1 Chronicles', 'Zechariah', 'Ecclesiastes', 'Zephaniah', 'Mark', 'Habakkuk', 'Lamentations'])\n"
     ]
    }
   ],
   "source": [
    "def load_bible(bible_name:str, bible_paths:List[str]=bible_paths) -> Dict[str, Any]:\n",
    "    \"\"\"\n",
    "    Load a bible from a json file.\n",
    "    \n",
    "    Parameters:\n",
    "    -----------\n",
    "    bible_name: str\n",
    "        The name of the bible to load.\n",
    "        \n",
    "    bible_paths: List[str]\n",
    "        A list of paths to the bibles.\n",
    "        \n",
    "    Returns:\n",
    "    --------\n",
    "    Dict[str, Any]\n",
    "        The bible as a dictionary.\n",
    "    \"\"\"\n",
    "    with open(bible_paths[bible_name]) as f:\n",
    "        return json.load(f)\n",
    "    \n",
    "## test the function\n",
    "bible = load_bible('ESV')\n",
    "print(bible.keys())"
   ]
  },
  {
   "cell_type": "code",
   "execution_count": 5,
   "metadata": {},
   "outputs": [
    {
     "name": "stdout",
     "output_type": "stream",
     "text": [
      "[ESV] Romans 1:1 Paul, a servant of Christ Jesus, called to be an apostle, set apart for the gospel of God,\n",
      "[NLT] Romans 1:1 This letter is from Paul, a slave of Christ Jesus, chosen by God to be an apostle and sent out to preach his Good News.\n"
     ]
    }
   ],
   "source": [
    "def load_bibles(bible_paths:List[str]=bible_paths) -> Dict[str, Dict[str, Any]]:\n",
    "    \"\"\"\n",
    "    Load all bibles from the given paths.\n",
    "    \n",
    "    Parameters\n",
    "    ----------\n",
    "    bible_paths : List[str]\n",
    "        List of paths to the bibles.\n",
    "        \n",
    "    Returns\n",
    "    -------\n",
    "    Dict[str, Dict[str, Any]]\n",
    "        Dictionary of bibles, where the keys are the names of the bibles.\n",
    "    \"\"\"\n",
    "    return {bible_name: load_bible(bible_name) for bible_name in bible_paths.keys()}\n",
    "\n",
    "## test the function\n",
    "bibles = load_bibles()\n",
    "\n",
    "# print the first verse of Romans\n",
    "for bible_name, bible in bibles.items():\n",
    "    print(f\"[{bible_name}] Romans 1:1 {bible['Romans']['1']['1']}\")"
   ]
  },
  {
   "cell_type": "markdown",
   "metadata": {},
   "source": [
    "## 3. Print Verses"
   ]
  },
  {
   "cell_type": "code",
   "execution_count": 6,
   "metadata": {},
   "outputs": [
    {
     "data": {
      "text/markdown": [
       "### **ESV**"
      ],
      "text/plain": [
       "<IPython.core.display.Markdown object>"
      ]
     },
     "metadata": {},
     "output_type": "display_data"
    },
    {
     "data": {
      "text/markdown": [
       "### Romans 1:1-32\n",
       "<sup>1</sup>Paul, a servant of Christ Jesus, called to be an apostle, set apart for the gospel of God,<sup>2</sup>which he promised beforehand through his prophets in the holy Scriptures,<sup>3</sup>concerning his Son, who was descended from David according to the flesh<sup>4</sup>and was declared to be the Son of God in power according to the Spirit of holiness by his resurrection from the dead, Jesus Christ our Lord,<sup>5</sup>through whom we have received grace and apostleship to bring about the obedience of faith for the sake of his name among all the nations,<sup>6</sup>including you who are called to belong to Jesus Christ,<sup>7</sup>To all those in Rome who are loved by God and called to be saints: Grace to you and peace from God our Father and the Lord Jesus Christ.<sup>8</sup>First, I thank my God through Jesus Christ for all of you, because your faith is proclaimed in all the world.<sup>9</sup>For God is my witness, whom I serve with my spirit in the gospel of his Son, that without ceasing I mention you<sup>10</sup>always in my prayers, asking that somehow by God''s will I may now at last succeed in coming to you.<sup>11</sup>For I long to see you, that I may impart to you some spiritual gift to strengthen you—<sup>12</sup>that is, that we may be mutually encouraged by each other''s faith, both yours and mine.<sup>13</sup>I do not want you to be unaware, brothers, that I have often intended to come to you (but thus far have been prevented), in order that I may reap some harvest among you as well as among the rest of the Gentiles.<sup>14</sup>I am under obligation both to Greeks and to barbarians, both to the wise and to the foolish.<sup>15</sup>So I am eager to preach the gospel to you also who are in Rome.<sup>16</sup>For I am not ashamed of the gospel, for it is the power of God for salvation to everyone who believes, to the Jew first and also to the Greek.<sup>17</sup>For in it the righteousness of God is revealed from faith for faith, as it is written, “The righteous shall live by faith.”<sup>18</sup>For the wrath of God is revealed from heaven against all ungodliness and unrighteousness of men, who by their unrighteousness suppress the truth.<sup>19</sup>For what can be known about God is plain to them, because God has shown it to them.<sup>20</sup>For his invisible attributes, namely, his eternal power and divine nature, have been clearly perceived, ever since the creation of the world, in the things that have been made. So they are without excuse.<sup>21</sup>For although they knew God, they did not honor him as God or give thanks to him, but they became futile in their thinking, and their foolish hearts were darkened.<sup>22</sup>Claiming to be wise, they became fools,<sup>23</sup>and exchanged the glory of the immortal God for images resembling mortal man and birds and animals and creeping things.<sup>24</sup>Therefore God gave them up in the lusts of their hearts to impurity, to the dishonoring of their bodies among themselves,<sup>25</sup>because they exchanged the truth about God for a lie and worshiped and served the creature rather than the Creator, who is blessed forever! Amen.<sup>26</sup>For this reason God gave them up to dishonorable passions. For their women exchanged natural relations for those that are contrary to nature;<sup>27</sup>and the men likewise gave up natural relations with women and were consumed with passion for one another, men committing shameless acts with men and receiving in themselves the due penalty for their error.<sup>28</sup>And since they did not see fit to acknowledge God, God gave them up to a debased mind to do what ought not to be done.<sup>29</sup>They were filled with all manner of unrighteousness, evil, covetousness, malice. They are full of envy, murder, strife, deceit, maliciousness. They are gossips,<sup>30</sup>slanderers, haters of God, insolent, haughty, boastful, inventors of evil, disobedient to parents,<sup>31</sup>foolish, faithless, heartless, ruthless.<sup>32</sup>Though they know God''s righteous decree that those who practice such things deserve to die, they not only do them but give approval to those who practice them."
      ],
      "text/plain": [
       "<IPython.core.display.Markdown object>"
      ]
     },
     "metadata": {},
     "output_type": "display_data"
    },
    {
     "data": {
      "text/markdown": [
       "### **NLT**"
      ],
      "text/plain": [
       "<IPython.core.display.Markdown object>"
      ]
     },
     "metadata": {},
     "output_type": "display_data"
    },
    {
     "data": {
      "text/markdown": [
       "### Romans 1:1-32\n",
       "<sup>1</sup>This letter is from Paul, a slave of Christ Jesus, chosen by God to be an apostle and sent out to preach his Good News.<sup>2</sup>God promised this Good News long ago through his prophets in the holy Scriptures.<sup>3</sup>The Good News is about his Son. In his earthly life he was born into King David’s family line,<sup>4</sup>and he was shown to be the Son of God when he was raised from the dead by the power of the Holy Spirit. He is Jesus Christ our Lord.<sup>5</sup>Through Christ, God has given us the privilege and authority as apostles to tell Gentiles everywhere what God has done for them, so that they will believe and obey him, bringing glory to his name.<sup>6</sup>And you are included among those Gentiles who have been called to belong to Jesus Christ.<sup>7</sup>I am writing to all of you in Rome who are loved by God and are called to be his own holy people. May God our Father and the Lord Jesus Christ give you grace and peace.<sup>8</sup>Let me say first that I thank my God through Jesus Christ for all of you, because your faith in him is being talked about all over the world.<sup>9</sup>God knows how often I pray for you. Day and night I bring you and your needs in prayer to God, whom I serve with all my heart by spreading the Good News about his Son.<sup>10</sup>One of the things I always pray for is the opportunity, God willing, to come at last to see you.<sup>11</sup>For I long to visit you so I can bring you some spiritual gift that will help you grow strong in the Lord.<sup>12</sup>When we get together, I want to encourage you in your faith, but I also want to be encouraged by yours.<sup>13</sup>I want you to know, dear brothers and sisters, that I planned many times to visit you, but I was prevented until now. I want to work among you and see spiritual fruit, just as I have seen among other Gentiles.<sup>14</sup>For I have a great sense of obligation to people in both the civilized world and the rest of the world, to the educated and uneducated alike.<sup>15</sup>So I am eager to come to you in Rome, too, to preach the Good News.<sup>16</sup>For I am not ashamed of this Good News about Christ. It is the power of God at work, saving everyone who believes—the Jew first and also the Gentile.<sup>17</sup>This Good News tells us how God makes us right in his sight. This is accomplished from start to finish by faith. As the Scriptures say, “It is through faith that a righteous person has life.”<sup>18</sup>But God shows his anger from heaven against all sinful, wicked people who suppress the truth by their wickedness.<sup>19</sup>They know the truth about God because he has made it obvious to them.<sup>20</sup>For ever since the world was created, people have seen the earth and sky. Through everything God made, they can clearly see his invisible qualities—his eternal power and divine nature. So they have no excuse for not knowing God.<sup>21</sup>Yes, they knew God, but they wouldn’t worship him as God or even give him thanks. And they began to think up foolish ideas of what God was like. As a result, their minds became dark and confused.<sup>22</sup>Claiming to be wise, they instead became utter fools.<sup>23</sup>And instead of worshiping the glorious, ever-living God, they worshiped idols made to look like mere people and birds and animals and reptiles.<sup>24</sup>So God abandoned them to do whatever shameful things their hearts desired. As a result, they did vile and degrading things with each other’s bodies.<sup>25</sup>They traded the truth about God for a lie. So they worshiped and served the things God created instead of the Creator himself, who is worthy of eternal praise! Amen.<sup>26</sup>That is why God abandoned them to their shameful desires. Even the women turned against the natural way to have sex and instead indulged in sex with each other.<sup>27</sup>And the men, instead of having normal sexual relations with women, burned with lust for each other. Men did shameful things with other men, and as a result of this sin, they suffered within themselves the penalty they deserved.<sup>28</sup>Since they thought it foolish to acknowledge God, he abandoned them to their foolish thinking and let them do things that should never be done.<sup>29</sup>Their lives became full of every kind of wickedness, sin, greed, hate, envy, murder, quarreling, deception, malicious behavior, and gossip.<sup>30</sup>They are backstabbers, haters of God, insolent, proud, and boastful. They invent new ways of sinning, and they disobey their parents.<sup>31</sup>They refuse to understand, break their promises, are heartless, and have no mercy.<sup>32</sup>They know God’s justice requires that those who do these things deserve to die, yet they do them anyway. Worse yet, they encourage others to do them, too."
      ],
      "text/plain": [
       "<IPython.core.display.Markdown object>"
      ]
     },
     "metadata": {},
     "output_type": "display_data"
    }
   ],
   "source": [
    "def print_verses(bible:Dict[str, Any],\n",
    "                 book:str,\n",
    "                 chapter:str,\n",
    "                 from_verse:int,\n",
    "                 to_verse:int) -> None:\n",
    "    \"\"\"\n",
    "    Print the verses from a bible.\n",
    "    \n",
    "    Parameters\n",
    "    ----------\n",
    "    bible : Dict[str, Any]\n",
    "        The bible as a dictionary.\n",
    "        \n",
    "    book : str\n",
    "        The name of the book.\n",
    "        \n",
    "    chapter : str\n",
    "        The chapter number.\n",
    "        \n",
    "    from_verse : int\n",
    "        The verse to start from.\n",
    "        \n",
    "    to_verse : int\n",
    "        The verse to end at.\n",
    "    \"\"\"\n",
    "    output_str = f'### {book} {chapter}:{from_verse}-{to_verse}\\n'\n",
    "    \n",
    "    for verse in range(from_verse, to_verse+1):\n",
    "        verse_text = bible[book][chapter][str(verse)].replace('\\n', '  ')\n",
    "        output_str += f'<sup>{verse}</sup>{verse_text}'\n",
    "        \n",
    "    # display the markdown\n",
    "    display(Markdown(output_str))\n",
    "    \n",
    "## test the function\n",
    "for bible_name, bible in bibles.items():\n",
    "    display(Markdown(f'### **{bible_name}**'))\n",
    "    print_verses(bibles[bible_name], 'Romans', '1', 1, 32)\n",
    "\n"
   ]
  }
 ],
 "metadata": {
  "kernelspec": {
   "display_name": "pauline-Interpolation-detection",
   "language": "python",
   "name": "python3"
  },
  "language_info": {
   "codemirror_mode": {
    "name": "ipython",
    "version": 3
   },
   "file_extension": ".py",
   "mimetype": "text/x-python",
   "name": "python",
   "nbconvert_exporter": "python",
   "pygments_lexer": "ipython3",
   "version": "3.10.16"
  }
 },
 "nbformat": 4,
 "nbformat_minor": 2
}

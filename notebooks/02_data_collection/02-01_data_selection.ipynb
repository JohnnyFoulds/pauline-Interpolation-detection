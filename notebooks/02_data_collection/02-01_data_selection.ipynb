{
 "cells": [
  {
   "cell_type": "markdown",
   "metadata": {},
   "source": [
    "# 02-01 : Data Selection\n",
    "\n",
    "## Data Collection\n",
    "\n",
    "- **Training Data:** Romans and Galatians (ESV/NLT), chosen for undisputed authenticity and stylistic consistency.\n",
    "- **Test Data:** 1-2 Corinthians, 1-2 Timothy (ESV/NLT)."
   ]
  },
  {
   "cell_type": "code",
   "execution_count": 1,
   "metadata": {},
   "outputs": [],
   "source": [
    "from typing import List, Dict, Any\n",
    "import json\n",
    "from IPython.display import display, Markdown"
   ]
  },
  {
   "cell_type": "markdown",
   "metadata": {},
   "source": [
    "## 1. Configuration"
   ]
  },
  {
   "cell_type": "code",
   "execution_count": 2,
   "metadata": {},
   "outputs": [],
   "source": [
    "data_path = '../../data'\n",
    "input_path = f'{data_path}/input/jadenzaleski/BibleTranslations'\n",
    "\n",
    "esv_file = f'{input_path}/ESV/ESV_bible.json'\n",
    "nlt_file = f'{input_path}/NLT/NLT_bible.json'\n",
    "\n",
    "output_path = f'{data_path}/interim'\n",
    "output_path_books = f'{output_path}/books'\n",
    "output_path_train = f'{output_path}/train'\n",
    "output_path_test = f'{output_path}/test'"
   ]
  },
  {
   "cell_type": "code",
   "execution_count": 3,
   "metadata": {},
   "outputs": [],
   "source": [
    "# the paths to the translations to use\n",
    "bible_paths = {\n",
    "    'esv': esv_file,\n",
    "    'nlt': nlt_file\n",
    "}"
   ]
  },
  {
   "cell_type": "code",
   "execution_count": 4,
   "metadata": {},
   "outputs": [],
   "source": [
    "# the selected books for training and test data\n",
    "selected_books = {\n",
    "    'train': ['Romans', 'Galatians'],\n",
    "    'test': ['1 Corinthians', '2 Corinthians', '1 Timothy', '2 Timothy']\n",
    "}"
   ]
  },
  {
   "cell_type": "markdown",
   "metadata": {},
   "source": [
    "## 2. Load the Bible Data"
   ]
  },
  {
   "cell_type": "code",
   "execution_count": 5,
   "metadata": {},
   "outputs": [],
   "source": [
    "def load_bible(bible_name:str, bible_paths:List[str]=bible_paths) -> Dict[str, Any]:\n",
    "    '''\n",
    "    Load a bible from a json file.\n",
    "    \n",
    "    Parameters:\n",
    "    -----------\n",
    "    bible_name: str\n",
    "        The name of the bible to load.\n",
    "        \n",
    "    bible_paths: List[str]\n",
    "        A list of paths to the bibles.\n",
    "        \n",
    "    Returns:\n",
    "    --------\n",
    "    Dict[str, Any]\n",
    "        The bible as a dictionary.\n",
    "    '''\n",
    "    with open(bible_paths[bible_name]) as f:\n",
    "        return json.load(f)\n",
    "\n",
    "def load_bibles(bible_paths:List[str]=bible_paths) -> Dict[str, Dict[str, Any]]:\n",
    "    '''\n",
    "    Load all bibles from the given paths.\n",
    "    \n",
    "    Parameters\n",
    "    ----------\n",
    "    bible_paths : List[str]\n",
    "        List of paths to the bibles.\n",
    "        \n",
    "    Returns\n",
    "    -------\n",
    "    Dict[str, Dict[str, Any]]\n",
    "        Dictionary of bibles, where the keys are the names of the bibles.\n",
    "    '''\n",
    "    return {bible_name: load_bible(bible_name) for bible_name in bible_paths.keys()}\n"
   ]
  },
  {
   "cell_type": "code",
   "execution_count": 6,
   "metadata": {},
   "outputs": [],
   "source": [
    "# load each translation of the bible\n",
    "bibles = load_bibles()"
   ]
  },
  {
   "cell_type": "markdown",
   "metadata": {},
   "source": [
    "## 3. Verses to Text"
   ]
  },
  {
   "cell_type": "code",
   "execution_count": 7,
   "metadata": {},
   "outputs": [
    {
     "data": {
      "text/markdown": [
       "Paul, a servant of Christ Jesus, called to be an apostle, set apart for the gospel of God, which he promised beforehand through his prophets in the holy Scriptures, concerning his Son, who was descended from David according to the flesh and was declared to be the Son of God in power according to the Spirit of holiness by his resurrection from the dead, Jesus Christ our Lord, "
      ],
      "text/plain": [
       "<IPython.core.display.Markdown object>"
      ]
     },
     "execution_count": 7,
     "metadata": {},
     "output_type": "execute_result"
    }
   ],
   "source": [
    "def verses_to_text(bible: Dict[str, Any],\n",
    "                   book: str,\n",
    "                   chapter: int,\n",
    "                   from_verse: int = 1,\n",
    "                   to_verse: int = None) -> str:\n",
    "    \"\"\"\n",
    "    Get the text of the verses from the bible.\n",
    "    \"\"\"\n",
    "    result = ''\n",
    "\n",
    "    # get the to verse\n",
    "    if to_verse is None:\n",
    "        to_verse = len(bible[book][str(chapter)])\n",
    "\n",
    "    # concatenate the verses\n",
    "    for verse in range(from_verse, to_verse + 1):\n",
    "        result += f'{bible[book][str(chapter)][str(verse)]} '.replace('\\n', '  ')\n",
    "\n",
    "    return result\n",
    "\n",
    "\n",
    "# test the function\n",
    "Markdown(verses_to_text(\n",
    "    bible=bibles['esv'],\n",
    "    book='Romans',\n",
    "    chapter=1,\n",
    "    from_verse=1,\n",
    "    to_verse=4))"
   ]
  }
 ],
 "metadata": {
  "kernelspec": {
   "display_name": "pauline-Interpolation-detection",
   "language": "python",
   "name": "python3"
  },
  "language_info": {
   "codemirror_mode": {
    "name": "ipython",
    "version": 3
   },
   "file_extension": ".py",
   "mimetype": "text/x-python",
   "name": "python",
   "nbconvert_exporter": "python",
   "pygments_lexer": "ipython3",
   "version": "3.10.16"
  }
 },
 "nbformat": 4,
 "nbformat_minor": 2
}

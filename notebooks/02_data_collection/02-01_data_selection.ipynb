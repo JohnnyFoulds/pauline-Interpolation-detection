{
 "cells": [
  {
   "cell_type": "markdown",
   "metadata": {},
   "source": [
    "# 02-01 : Data Selection\n",
    "\n",
    "## Data Collection\n",
    "\n",
    "- **Training Data:** Romans and Galatians (ESV/NLT), chosen for undisputed authenticity and stylistic consistency.\n",
    "- **Test Data:** 1-2 Corinthians, 1-2 Timothy (ESV/NLT)."
   ]
  },
  {
   "cell_type": "code",
   "execution_count": 1,
   "metadata": {},
   "outputs": [],
   "source": [
    "from typing import List, Dict, Any\n",
    "import json\n",
    "from IPython.display import display, Markdown"
   ]
  },
  {
   "cell_type": "markdown",
   "metadata": {},
   "source": [
    "## 1. Configuration"
   ]
  },
  {
   "cell_type": "code",
   "execution_count": 2,
   "metadata": {},
   "outputs": [],
   "source": [
    "data_path = '../../data'\n",
    "input_path = f'{data_path}/input/jadenzaleski/BibleTranslations'\n",
    "\n",
    "esv_file = f'{input_path}/ESV/ESV_bible.json'\n",
    "nlt_file = f'{input_path}/NLT/NLT_bible.json'\n",
    "\n",
    "output_path = f'{data_path}/interim'\n",
    "output_path_books = f'{output_path}/books'\n",
    "output_path_train = f'{output_path}/train'\n",
    "output_path_test = f'{output_path}/test'"
   ]
  },
  {
   "cell_type": "code",
   "execution_count": 3,
   "metadata": {},
   "outputs": [],
   "source": [
    "# the paths to the translations to use\n",
    "bible_paths = {\n",
    "    'esv': esv_file,\n",
    "    'nlt': nlt_file\n",
    "}"
   ]
  },
  {
   "cell_type": "code",
   "execution_count": 4,
   "metadata": {},
   "outputs": [],
   "source": [
    "# the selected books for training and test data\n",
    "selected_books = {\n",
    "    'train': {'Romans': {'text': '', 'sentences': []}, \n",
    "              'Galatians': None},\n",
    "    'test': {'1 Corinthians': None, \n",
    "             '2 Corinthians': None, \n",
    "             '1 Timothy': None, \n",
    "             '2 Timothy': None}\n",
    "}"
   ]
  },
  {
   "cell_type": "markdown",
   "metadata": {},
   "source": [
    "## 2. Load the Bible Data"
   ]
  },
  {
   "cell_type": "code",
   "execution_count": 5,
   "metadata": {},
   "outputs": [],
   "source": [
    "def load_bible(bible_name:str, bible_paths:List[str]=bible_paths) -> Dict[str, Any]:\n",
    "    '''\n",
    "    Load a bible from a json file.\n",
    "    \n",
    "    Parameters:\n",
    "    -----------\n",
    "    bible_name: str\n",
    "        The name of the bible to load.\n",
    "        \n",
    "    bible_paths: List[str]\n",
    "        A list of paths to the bibles.\n",
    "        \n",
    "    Returns:\n",
    "    --------\n",
    "    Dict[str, Any]\n",
    "        The bible as a dictionary.\n",
    "    '''\n",
    "    with open(bible_paths[bible_name]) as f:\n",
    "        return json.load(f)\n",
    "\n",
    "def load_bibles(bible_paths:List[str]=bible_paths) -> Dict[str, Dict[str, Any]]:\n",
    "    '''\n",
    "    Load all bibles from the given paths.\n",
    "    \n",
    "    Parameters\n",
    "    ----------\n",
    "    bible_paths : List[str]\n",
    "        List of paths to the bibles.\n",
    "        \n",
    "    Returns\n",
    "    -------\n",
    "    Dict[str, Dict[str, Any]]\n",
    "        Dictionary of bibles, where the keys are the names of the bibles.\n",
    "    '''\n",
    "    return {bible_name: load_bible(bible_name) for bible_name in bible_paths.keys()}\n"
   ]
  },
  {
   "cell_type": "code",
   "execution_count": 6,
   "metadata": {},
   "outputs": [],
   "source": [
    "# load each translation of the bible\n",
    "bibles = load_bibles()"
   ]
  },
  {
   "cell_type": "markdown",
   "metadata": {},
   "source": [
    "## 3. To Text"
   ]
  },
  {
   "cell_type": "markdown",
   "metadata": {},
   "source": [
    "### 3.1. Verses to Text"
   ]
  },
  {
   "cell_type": "code",
   "execution_count": 7,
   "metadata": {},
   "outputs": [
    {
     "data": {
      "text/markdown": [
       "Paul, a servant of Christ Jesus, called to be an apostle, set apart for the gospel of God, which he promised beforehand through his prophets in the holy Scriptures, concerning his Son, who was descended from David according to the flesh and was declared to be the Son of God in power according to the Spirit of holiness by his resurrection from the dead, Jesus Christ our Lord, "
      ],
      "text/plain": [
       "<IPython.core.display.Markdown object>"
      ]
     },
     "execution_count": 7,
     "metadata": {},
     "output_type": "execute_result"
    }
   ],
   "source": [
    "def verses_to_text(bible: Dict[str, Any],\n",
    "                   book: str,\n",
    "                   chapter: int,\n",
    "                   from_verse: int = 1,\n",
    "                   to_verse: int = None) -> str:\n",
    "    \"\"\"\n",
    "    Get the text of the verses from the bible.\n",
    "    \"\"\"\n",
    "    result = ''\n",
    "\n",
    "    # get the to verse\n",
    "    if to_verse is None:\n",
    "        to_verse = len(bible[book][str(chapter)])\n",
    "\n",
    "    # concatenate the verses\n",
    "    for verse in range(from_verse, to_verse + 1):\n",
    "        result += f'{bible[book][str(chapter)][str(verse)]} '.replace('\\n', '  ')\n",
    "\n",
    "    return result\n",
    "\n",
    "\n",
    "# test the function\n",
    "Markdown(verses_to_text(\n",
    "    bible=bibles['esv'],\n",
    "    book='Romans',\n",
    "    chapter=1,\n",
    "    from_verse=1,\n",
    "    to_verse=4))"
   ]
  },
  {
   "cell_type": "markdown",
   "metadata": {},
   "source": [
    "### 3.2. Chapters to Text"
   ]
  },
  {
   "cell_type": "code",
   "execution_count": 9,
   "metadata": {},
   "outputs": [
    {
     "data": {
      "text/markdown": [
       "You may think you can condemn such people, but you are just as bad, and you have no excuse! When you say they are wicked and should be punished, you are condemning yourself, for you who judge others do these very same things. And we know that God, in his justice, will punish anyone who does such things. Since you judge others for doing these things, why do you think you can avoid God’s judgment when you do the same things? Don’t you see how wonderfully kind, tolerant, and patient God is with you? Does this mean nothing to you? Can’t you see that his kindness is intended to turn you from your sin? But because you are stubborn and refuse to turn from your sin, you are storing up terrible punishment for yourself. For a day of anger is coming, when God’s righteous judgment will be revealed. He will judge everyone according to what they have done. He will give eternal life to those who keep on doing good, seeking after the glory and honor and immortality that God offers. But he will pour out his anger and wrath on those who live for themselves, who refuse to obey the truth and instead live lives of wickedness. There will be trouble and calamity for everyone who keeps on doing what is evil—for the Jew first and also for the Gentile. But there will be glory and honor and peace from God for all who do good—for the Jew first and also for the Gentile. For God does not show favoritism. When the Gentiles sin, they will be destroyed, even though they never had God’s written law. And the Jews, who do have God’s law, will be judged by that law when they fail to obey it. For merely listening to the law doesn’t make us right with God. It is obeying the law that makes us right in his sight. Even Gentiles, who do not have God’s written law, show that they know his law when they instinctively obey it, even without having heard it. They demonstrate that God’s law is written in their hearts, for their own conscience and thoughts either accuse them or tell them they are doing right. And this is the message I proclaim—that the day is coming when God, through Christ Jesus, will judge everyone’s secret life. You who call yourselves Jews are relying on God’s law, and you boast about your special relationship with him. You know what he wants; you know what is right because you have been taught his law. You are convinced that you are a guide for the blind and a light for people who are lost in darkness. You think you can instruct the ignorant and teach children the ways of God. For you are certain that God’s law gives you complete knowledge and truth. Well then, if you teach others, why don’t you teach yourself? You tell others not to steal, but do you steal? You say it is wrong to commit adultery, but do you commit adultery? You condemn idolatry, but do you use items stolen from pagan temples? You are so proud of knowing the law, but you dishonor God by breaking it. No wonder the Scriptures say, “The Gentiles blaspheme the name of God because of you.” The Jewish ceremony of circumcision has value only if you obey God’s law. But if you don’t obey God’s law, you are no better off than an uncircumcised Gentile. And if the Gentiles obey God’s law, won’t God declare them to be his own people? In fact, uncircumcised Gentiles who keep God’s law will condemn you Jews who are circumcised and possess God’s law but don’t obey it. For you are not a true Jew just because you were born of Jewish parents or because you have gone through the ceremony of circumcision. No, a true Jew is one whose heart is right with God. And true circumcision is not merely obeying the letter of the law; rather, it is a change of heart produced by the Spirit. And a person with a changed heart seeks praise from God, not from people. "
      ],
      "text/plain": [
       "<IPython.core.display.Markdown object>"
      ]
     },
     "execution_count": 9,
     "metadata": {},
     "output_type": "execute_result"
    }
   ],
   "source": [
    "def chapter_to_text(bible: Dict[str, Any],\n",
    "                    book: str,\n",
    "                    chapter: int) -> str:\n",
    "    \"\"\"\n",
    "    Get the text of the chapter from the bible.\n",
    "    \"\"\"\n",
    "    return verses_to_text(bible=bible, book=book, chapter=chapter)\n",
    "\n",
    "## test the function\n",
    "Markdown(chapter_to_text(bibles['esv'], 'Romans', 2))"
   ]
  }
 ],
 "metadata": {
  "kernelspec": {
   "display_name": "pauline-Interpolation-detection",
   "language": "python",
   "name": "python3"
  },
  "language_info": {
   "codemirror_mode": {
    "name": "ipython",
    "version": 3
   },
   "file_extension": ".py",
   "mimetype": "text/x-python",
   "name": "python",
   "nbconvert_exporter": "python",
   "pygments_lexer": "ipython3",
   "version": "3.10.16"
  }
 },
 "nbformat": 4,
 "nbformat_minor": 2
}
